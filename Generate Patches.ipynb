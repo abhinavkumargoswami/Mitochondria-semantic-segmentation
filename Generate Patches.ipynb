{
 "cells": [
  {
   "cell_type": "code",
   "execution_count": 4,
   "id": "d2aa7d51",
   "metadata": {},
   "outputs": [],
   "source": [
    "from patchify import patchify as ptf\n",
    "import tiffile as tiff\n"
   ]
  },
  {
   "cell_type": "code",
   "execution_count": 5,
   "id": "9ce42917",
   "metadata": {},
   "outputs": [],
   "source": [
    "train_image_stack = tiff.imread('data/training.tif')\n",
    "test_image_stack = tiff.imread('data/testing.tif')\n",
    "mask_train_image_stack = tiff.imread('data/training_groundtruth.tif')\n",
    "mask_test_image_stack = tiff.imread('data/testing_groundtruth.tif')"
   ]
  },
  {
   "cell_type": "code",
   "execution_count": 7,
   "id": "7a550ae3",
   "metadata": {},
   "outputs": [],
   "source": [
    "for i in range(train_image_stack.shape[0]):\n",
    "    train_image = train_image_stack[i]\n",
    "    mask_train_image = mask_train_image_stack[i]\n",
    "    \n",
    "    train_patch = ptf(train_image,(256,256),256)\n",
    "    mask_train_patch = ptf(mask_train_image,(256,256),256)\n",
    "    \n",
    "    for j in range(train_patch.shape[0]):\n",
    "        for k in range(train_patch.shape[1]):\n",
    "            tiff.imwrite('patches/images/' + 'image_' + str(i) + '_' + str(j)+str(k)+ \".tif\", train_patch[j,k,:,:])\n",
    "            tiff.imwrite('patches/masks/' + 'image_' + str(i) + '_' + str(j)+str(k)+ \".tif\", mask_train_patch[j,k,:,:])\n",
    "\n",
    "            \n",
    "for i in range(test_image_stack.shape[0]):\n",
    "    test_image = test_image_stack[i]\n",
    "    mask_test_image = mask_test_image_stack[i]\n",
    "    \n",
    "    test_patch = ptf(test_image,(256,256),256)\n",
    "    mask_test_patch = ptf(mask_test_image,(256,256),256)\n",
    "    \n",
    "    for j in range(test_patch.shape[0]):\n",
    "        for k in range(test_patch.shape[1]):\n",
    "            tiff.imwrite('patches/test_images/' + 'image_' + str(i) + '_' + str(j)+str(k)+ \".tif\", test_patch[j,k,:,:])\n",
    "            tiff.imwrite('patches/test_masks/' + 'image_' + str(i) + '_' + str(j)+str(k)+ \".tif\", mask_test_patch[j,k,:,:])\n",
    "\n",
    "\n",
    "        \n",
    "    \n",
    "    "
   ]
  },
  {
   "cell_type": "code",
   "execution_count": null,
   "id": "ceb1e353",
   "metadata": {},
   "outputs": [],
   "source": []
  }
 ],
 "metadata": {
  "kernelspec": {
   "display_name": "Python 3 (ipykernel)",
   "language": "python",
   "name": "python3"
  },
  "language_info": {
   "codemirror_mode": {
    "name": "ipython",
    "version": 3
   },
   "file_extension": ".py",
   "mimetype": "text/x-python",
   "name": "python",
   "nbconvert_exporter": "python",
   "pygments_lexer": "ipython3",
   "version": "3.7.0"
  }
 },
 "nbformat": 4,
 "nbformat_minor": 5
}
